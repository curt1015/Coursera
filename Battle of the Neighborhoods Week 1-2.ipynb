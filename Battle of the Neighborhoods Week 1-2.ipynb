{
    "cells": [
        {
            "metadata": {},
            "cell_type": "code",
            "source": "# @hidden_cell\n# The project token is an authorization token that is used to access project resources like data sources, connections, and used by platform APIs.\nfrom project_lib import Project\nproject = Project(project_id='07afe8c4-7346-47a9-b182-3082c6d77a68', project_access_token='p-296809701d0f7d74306c7b1850a94c1c10483b22')\npc = project.project_context\n",
            "execution_count": 1,
            "outputs": []
        },
        {
            "metadata": {
                "collapsed": true
            },
            "cell_type": "markdown",
            "source": "# Battle of the Neighborhoods- Food Insecurity with Covid-19"
        },
        {
            "metadata": {},
            "cell_type": "markdown",
            "source": "## Introduction/Business Problem:\n"
        },
        {
            "metadata": {},
            "cell_type": "markdown",
            "source": "With many being unemployeed due to Covid-19, hunger among US children is growing. Food insecurity has also grown from students not receiving a meal at schools are closed or operating virtually due to Covid-19.In April 41% of mothers with children under the age of 13 reported recent food insecurity, which is the highest level since 2001. In addition, the non-profit organization, Feeding America, projects 18 million children could be food insecure in 2020. While many school districts are operating in a grab-n-go fashion, many students are unable to make it to these sites. For example, many school districts operate summer feeding programs. However, in 2018 only 14.1% of kids who received a free or reduced-price meals during the school year got a meal over the summer. Barriers for students getting grab-n-go meals include transportation barriers, families not knowing meals are available, and sites not being open when families are able to pick up meals.\nThis project will look at where grab-n-go sites should be placed within the Lewisville ISD school district. Selecting the right grab-n-go sites is crucial in helping students overcome the barriers preventing them from getting the food they need. "
        },
        {
            "metadata": {},
            "cell_type": "markdown",
            "source": "## Data\n"
        },
        {
            "metadata": {},
            "cell_type": "markdown",
            "source": "This project will use foursquare API data to get the latitude and longitude coordinates for each of the 66 schools in the school district. In addition, the project will use data showing how many students qualify for free and reduced lunches and the enrollment data for each of the 66 schools.\nThe datasets will be analyzed to determine which of the 66 sites would be the most useful to serve grab and go meals from based on geography and need of the local community.\n"
        },
        {
            "metadata": {},
            "cell_type": "code",
            "source": "",
            "execution_count": 11,
            "outputs": [
                {
                    "output_type": "error",
                    "ename": "NameError",
                    "evalue": "name 'client_65e164cdc3734a849b4963e9a15695f3' is not defined",
                    "traceback": [
                        "\u001b[0;31m---------------------------------------------------------------------------\u001b[0m",
                        "\u001b[0;31mNameError\u001b[0m                                 Traceback (most recent call last)",
                        "\u001b[0;32m<ipython-input-11-3cd49f92332a>\u001b[0m in \u001b[0;36m<module>\u001b[0;34m\u001b[0m\n\u001b[1;32m      1\u001b[0m \u001b[0;34m\u001b[0m\u001b[0m\n\u001b[0;32m----> 2\u001b[0;31m \u001b[0mbody\u001b[0m \u001b[0;34m=\u001b[0m \u001b[0mclient_65e164cdc3734a849b4963e9a15695f3\u001b[0m\u001b[0;34m.\u001b[0m\u001b[0mget_object\u001b[0m\u001b[0;34m(\u001b[0m\u001b[0mBucket\u001b[0m\u001b[0;34m=\u001b[0m\u001b[0;34m'capstoneproject-donotdelete-pr-tfc3arfibcxxd2'\u001b[0m\u001b[0;34m,\u001b[0m\u001b[0mKey\u001b[0m\u001b[0;34m=\u001b[0m\u001b[0;34m'FreeReducedData.csv'\u001b[0m\u001b[0;34m)\u001b[0m\u001b[0;34m[\u001b[0m\u001b[0;34m'Body'\u001b[0m\u001b[0;34m]\u001b[0m\u001b[0;34m\u001b[0m\u001b[0;34m\u001b[0m\u001b[0m\n\u001b[0m\u001b[1;32m      3\u001b[0m \u001b[0;31m# add missing __iter__ method, so pandas accepts body as file-like object\u001b[0m\u001b[0;34m\u001b[0m\u001b[0;34m\u001b[0m\u001b[0;34m\u001b[0m\u001b[0m\n\u001b[1;32m      4\u001b[0m \u001b[0;32mif\u001b[0m \u001b[0;32mnot\u001b[0m \u001b[0mhasattr\u001b[0m\u001b[0;34m(\u001b[0m\u001b[0mbody\u001b[0m\u001b[0;34m,\u001b[0m \u001b[0;34m\"__iter__\"\u001b[0m\u001b[0;34m)\u001b[0m\u001b[0;34m:\u001b[0m \u001b[0mbody\u001b[0m\u001b[0;34m.\u001b[0m\u001b[0m__iter__\u001b[0m \u001b[0;34m=\u001b[0m \u001b[0mtypes\u001b[0m\u001b[0;34m.\u001b[0m\u001b[0mMethodType\u001b[0m\u001b[0;34m(\u001b[0m \u001b[0m__iter__\u001b[0m\u001b[0;34m,\u001b[0m \u001b[0mbody\u001b[0m \u001b[0;34m)\u001b[0m\u001b[0;34m\u001b[0m\u001b[0;34m\u001b[0m\u001b[0m\n\u001b[1;32m      5\u001b[0m \u001b[0;34m\u001b[0m\u001b[0m\n",
                        "\u001b[0;31mNameError\u001b[0m: name 'client_65e164cdc3734a849b4963e9a15695f3' is not defined"
                    ]
                }
            ]
        },
        {
            "metadata": {},
            "cell_type": "markdown",
            "source": "## Methodology"
        },
        {
            "metadata": {},
            "cell_type": "markdown",
            "source": "To chose the best sites, the data was looked at in a variety of ways. The first way the data was analyzed was to look at how many free students each school had in their enrollment."
        },
        {
            "metadata": {},
            "cell_type": "code",
            "source": "\nbody = client_65e164cdc3734a849b4963e9a15695f3.get_object(Bucket='capstoneproject-donotdelete-pr-tfc3arfibcxxd2',Key='schools ranked by free students.csv')['Body']\n# add missing __iter__ method, so pandas accepts body as file-like object\nif not hasattr(body, \"__iter__\"): body.__iter__ = types.MethodType( __iter__, body )\n\ndf_data_1 = pd.read_csv(body)\ndf_data_1.head()\n",
            "execution_count": 12,
            "outputs": [
                {
                    "output_type": "error",
                    "ename": "NameError",
                    "evalue": "name 'client_65e164cdc3734a849b4963e9a15695f3' is not defined",
                    "traceback": [
                        "\u001b[0;31m---------------------------------------------------------------------------\u001b[0m",
                        "\u001b[0;31mNameError\u001b[0m                                 Traceback (most recent call last)",
                        "\u001b[0;32m<ipython-input-12-7f6b6e878a45>\u001b[0m in \u001b[0;36m<module>\u001b[0;34m\u001b[0m\n\u001b[1;32m      1\u001b[0m \u001b[0;34m\u001b[0m\u001b[0m\n\u001b[0;32m----> 2\u001b[0;31m \u001b[0mbody\u001b[0m \u001b[0;34m=\u001b[0m \u001b[0mclient_65e164cdc3734a849b4963e9a15695f3\u001b[0m\u001b[0;34m.\u001b[0m\u001b[0mget_object\u001b[0m\u001b[0;34m(\u001b[0m\u001b[0mBucket\u001b[0m\u001b[0;34m=\u001b[0m\u001b[0;34m'capstoneproject-donotdelete-pr-tfc3arfibcxxd2'\u001b[0m\u001b[0;34m,\u001b[0m\u001b[0mKey\u001b[0m\u001b[0;34m=\u001b[0m\u001b[0;34m'schools ranked by free students.csv'\u001b[0m\u001b[0;34m)\u001b[0m\u001b[0;34m[\u001b[0m\u001b[0;34m'Body'\u001b[0m\u001b[0;34m]\u001b[0m\u001b[0;34m\u001b[0m\u001b[0;34m\u001b[0m\u001b[0m\n\u001b[0m\u001b[1;32m      3\u001b[0m \u001b[0;31m# add missing __iter__ method, so pandas accepts body as file-like object\u001b[0m\u001b[0;34m\u001b[0m\u001b[0;34m\u001b[0m\u001b[0;34m\u001b[0m\u001b[0m\n\u001b[1;32m      4\u001b[0m \u001b[0;32mif\u001b[0m \u001b[0;32mnot\u001b[0m \u001b[0mhasattr\u001b[0m\u001b[0;34m(\u001b[0m\u001b[0mbody\u001b[0m\u001b[0;34m,\u001b[0m \u001b[0;34m\"__iter__\"\u001b[0m\u001b[0;34m)\u001b[0m\u001b[0;34m:\u001b[0m \u001b[0mbody\u001b[0m\u001b[0;34m.\u001b[0m\u001b[0m__iter__\u001b[0m \u001b[0;34m=\u001b[0m \u001b[0mtypes\u001b[0m\u001b[0;34m.\u001b[0m\u001b[0mMethodType\u001b[0m\u001b[0;34m(\u001b[0m \u001b[0m__iter__\u001b[0m\u001b[0;34m,\u001b[0m \u001b[0mbody\u001b[0m \u001b[0;34m)\u001b[0m\u001b[0;34m\u001b[0m\u001b[0;34m\u001b[0m\u001b[0m\n\u001b[1;32m      5\u001b[0m \u001b[0;34m\u001b[0m\u001b[0m\n",
                        "\u001b[0;31mNameError\u001b[0m: name 'client_65e164cdc3734a849b4963e9a15695f3' is not defined"
                    ]
                }
            ]
        },
        {
            "metadata": {},
            "cell_type": "code",
            "source": "\nimport types\nimport pandas as pd\nfrom botocore.client import Config\nimport ibm_boto3\n\ndef __iter__(self): return 0\n\n# @hidden_cell\n# The following code accesses a file in your IBM Cloud Object Storage. It includes your credentials.\n# You might want to remove those credentials before you share the notebook.\nclient_65e164cdc3734a849b4963e9a15695f3 = ibm_boto3.client(service_name='s3',\n    ibm_api_key_id='q6zEkXkixXv1oNBt9wCfMS4xOozyjOuw35eZQQMSQVkb',\n    ibm_auth_endpoint=\"https://iam.cloud.ibm.com/oidc/token\",\n    config=Config(signature_version='oauth'),\n    endpoint_url='https://s3-api.us-geo.objectstorage.service.networklayer.com')\n\n# Your data file was loaded into a botocore.response.StreamingBody object.\n# Please read the documentation of ibm_boto3 and pandas to learn more about the possibilities to load the data.\n# ibm_boto3 documentation: https://ibm.github.io/ibm-cos-sdk-python/\n# pandas documentation: http://pandas.pydata.org/\nstreaming_body_1 = client_65e164cdc3734a849b4963e9a15695f3.get_object(Bucket='capstoneproject-donotdelete-pr-tfc3arfibcxxd2', Key='Screen Shot 2020-09-06 at 7.16.31 PM.png')['Body']\n# add missing __iter__ method, so pandas accepts body as file-like object\nif not hasattr(streaming_body_1, \"__iter__\"): streaming_body_1.__iter__ = types.MethodType( __iter__, streaming_body_1 ) \n",
            "execution_count": 13,
            "outputs": []
        },
        {
            "metadata": {},
            "cell_type": "markdown",
            "source": "The data shows that the Lewisville high school feeder pattern has the most free students. Since schools in the Lewisville High School feeder pattern are close together, it would make sense to select schools outside this feeder pattern, as well, even if these schools do not have the most free and reduced students. Machine learning could have been used to cluster the schools, but this would have not been beneficial since similar schools would more than likely be geographically close to each other, which is something we are trying to avoid in selecting the sites."
        },
        {
            "metadata": {},
            "cell_type": "markdown",
            "source": "## Results"
        },
        {
            "metadata": {},
            "cell_type": "markdown",
            "source": "The best grab and go meal sites include Lewisville Harmon High School. This site has a free student percentage of 64% and 813 free students. Lewisville HS was not selected due to its close proximity to Lewisville Harmon. Other schools selected in the Lewisville Feeder pattern include Mill Street Elementary School and Lakeland Elementary School. \n\nOther good grab and go meal sites include Hedrick Middle School and Vickery Elementary School due to their high free student enrollment and geographic separation from the other selected sites."
        },
        {
            "metadata": {},
            "cell_type": "markdown",
            "source": "## Discussion\n\n"
        },
        {
            "metadata": {},
            "cell_type": "markdown",
            "source": "When selecting sites, stakeholders must look at how many sites the school is looking to operate and would need to look at how accessible each site is to its students. For example, parents way be working and students may have to walk to the sites. The number of sites selected will play a big role in determing the sites. If few sites are selected, it would be advantageous to select sites that are geographically separated compared to just selecting the sites with the highest need. Also, it is important to evaluate other resources that are available outside of the school district's feeding program to prevent two feeding programs from targeting the same students."
        },
        {
            "metadata": {},
            "cell_type": "markdown",
            "source": "## Conclusion"
        },
        {
            "metadata": {},
            "cell_type": "markdown",
            "source": "Based on the data analysis, I would select Lewisville Harmon HS, Mill Street Elementary School, Lakeland Elementary School, Hedrick Middle School, and Vickery Elementary School. \nHowever, if the school distirct wanted to operate more sites: Peter's Colony, Central Elementary and Lewisville Elementary would be other great options."
        },
        {
            "metadata": {},
            "cell_type": "code",
            "source": "",
            "execution_count": null,
            "outputs": []
        }
    ],
    "metadata": {
        "kernelspec": {
            "name": "python3",
            "display_name": "Python 3.6",
            "language": "python"
        },
        "language_info": {
            "name": "python",
            "version": "3.6.9",
            "mimetype": "text/x-python",
            "codemirror_mode": {
                "name": "ipython",
                "version": 3
            },
            "pygments_lexer": "ipython3",
            "nbconvert_exporter": "python",
            "file_extension": ".py"
        }
    },
    "nbformat": 4,
    "nbformat_minor": 1
}