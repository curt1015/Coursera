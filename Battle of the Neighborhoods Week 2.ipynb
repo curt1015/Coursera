{
    "cells": [
        {
            "metadata": {},
            "cell_type": "code",
            "source": "# @hidden_cell\n# The project token is an authorization token that is used to access project resources like data sources, connections, and used by platform APIs.\nfrom project_lib import Project\nproject = Project(project_id='07afe8c4-7346-47a9-b182-3082c6d77a68', project_access_token='p-296809701d0f7d74306c7b1850a94c1c10483b22')\npc = project.project_context\n",
            "execution_count": null,
            "outputs": []
        },
        {
            "metadata": {
                "collapsed": true
            },
            "cell_type": "markdown",
            "source": "# Battle of the Neighborhoods- Food Insecurity with Covid-19"
        },
        {
            "metadata": {},
            "cell_type": "markdown",
            "source": "## Introduction/Business Problem:\n"
        },
        {
            "metadata": {},
            "cell_type": "markdown",
            "source": "With many being unemployeed due to Covid-19, hunger among US children is growing. Food insecurity has also grown from students not receiving a meal at schools are closed or operating virtually due to Covid-19.In April 41% of mothers with children under the age of 13 reported recent food insecurity, which is the highest level since 2001. In addition, the non-profit organization, Feeding America, projects 18 million children could be food insecure in 2020. While many school districts are operating in a grab-n-go fashion, many students are unable to make it to these sites. For example, many school districts operate summer feeding programs. However, in 2018 only 14.1% of kids who received a free or reduced-price meals during the school year got a meal over the summer. Barriers for students getting grab-n-go meals include transportation barriers, families not knowing meals are available, and sites not being open when families are able to pick up meals.\nThis project will look at where grab-n-go sites should be placed within the Lewisville ISD school district. Selecting the right grab-n-go sites is crucial in helping students overcome the barriers preventing them from getting the food they need. "
        },
        {
            "metadata": {},
            "cell_type": "markdown",
            "source": "## Data\n"
        },
        {
            "metadata": {},
            "cell_type": "markdown",
            "source": "This project will use foursquare API data to get the latitude and longitude coordinates for each of the 66 schools in the school district. In addition, the project will use data showing how many students qualify for free and reduced lunches and the enrollment data for each of the 66 schools.\nThe datasets will be analyzed to determine which of the 66 sites would be the most useful to serve grab and go meals from based on geography and need of the local community.\n"
        },
        {
            "metadata": {},
            "cell_type": "code",
            "source": "\nimport types\nimport pandas as pd\nfrom botocore.client import Config\nimport ibm_boto3\n\ndef __iter__(self): return 0\n\n# @hidden_cell\n# The following code accesses a file in your IBM Cloud Object Storage. It includes your credentials.\n# You might want to remove those credentials before you share the notebook.\nclient_65e164cdc3734a849b4963e9a15695f3 = ibm_boto3.client(service_name='s3',\n    ibm_api_key_id='q6zEkXkixXv1oNBt9wCfMS4xOozyjOuw35eZQQMSQVkb',\n    ibm_auth_endpoint=\"https://iam.cloud.ibm.com/oidc/token\",\n    config=Config(signature_version='oauth'),\n    endpoint_url='https://s3-api.us-geo.objectstorage.service.networklayer.com')\n\nbody = client_65e164cdc3734a849b4963e9a15695f3.get_object(Bucket='capstoneproject-donotdelete-pr-tfc3arfibcxxd2',Key='FreeReducedData.csv')['Body']\n# add missing __iter__ method, so pandas accepts body as file-like object\nif not hasattr(body, \"__iter__\"): body.__iter__ = types.MethodType( __iter__, body )\n\ndf_data_1 = pd.read_csv(body)\ndf_data_1.head()\n",
            "execution_count": 1,
            "outputs": [
                {
                    "output_type": "execute_result",
                    "execution_count": 1,
                    "data": {
                        "text/plain": "         School  Enrollment  Free Free %  Reduced Reduced %  Free & Reduced  \\\n0    Bluebonnet         504    31     6%        5        1%              36   \n1    Bridlewood         483    26     5%        1        0%              27   \n2         Camey         548   275    50%       36        7%             311   \n3  Castle_Hills         704    36     5%        4        1%              40   \n4       Central         549   437    80%       43        8%             480   \n\n  F&R %  Paid Paid %  \n0    7%   468    93%  \n1    6%   456    94%  \n2   57%   237    43%  \n3    6%   664    94%  \n4   87%    69    13%  ",
                        "text/html": "<div>\n<style scoped>\n    .dataframe tbody tr th:only-of-type {\n        vertical-align: middle;\n    }\n\n    .dataframe tbody tr th {\n        vertical-align: top;\n    }\n\n    .dataframe thead th {\n        text-align: right;\n    }\n</style>\n<table border=\"1\" class=\"dataframe\">\n  <thead>\n    <tr style=\"text-align: right;\">\n      <th></th>\n      <th>School</th>\n      <th>Enrollment</th>\n      <th>Free</th>\n      <th>Free %</th>\n      <th>Reduced</th>\n      <th>Reduced %</th>\n      <th>Free &amp; Reduced</th>\n      <th>F&amp;R %</th>\n      <th>Paid</th>\n      <th>Paid %</th>\n    </tr>\n  </thead>\n  <tbody>\n    <tr>\n      <th>0</th>\n      <td>Bluebonnet</td>\n      <td>504</td>\n      <td>31</td>\n      <td>6%</td>\n      <td>5</td>\n      <td>1%</td>\n      <td>36</td>\n      <td>7%</td>\n      <td>468</td>\n      <td>93%</td>\n    </tr>\n    <tr>\n      <th>1</th>\n      <td>Bridlewood</td>\n      <td>483</td>\n      <td>26</td>\n      <td>5%</td>\n      <td>1</td>\n      <td>0%</td>\n      <td>27</td>\n      <td>6%</td>\n      <td>456</td>\n      <td>94%</td>\n    </tr>\n    <tr>\n      <th>2</th>\n      <td>Camey</td>\n      <td>548</td>\n      <td>275</td>\n      <td>50%</td>\n      <td>36</td>\n      <td>7%</td>\n      <td>311</td>\n      <td>57%</td>\n      <td>237</td>\n      <td>43%</td>\n    </tr>\n    <tr>\n      <th>3</th>\n      <td>Castle_Hills</td>\n      <td>704</td>\n      <td>36</td>\n      <td>5%</td>\n      <td>4</td>\n      <td>1%</td>\n      <td>40</td>\n      <td>6%</td>\n      <td>664</td>\n      <td>94%</td>\n    </tr>\n    <tr>\n      <th>4</th>\n      <td>Central</td>\n      <td>549</td>\n      <td>437</td>\n      <td>80%</td>\n      <td>43</td>\n      <td>8%</td>\n      <td>480</td>\n      <td>87%</td>\n      <td>69</td>\n      <td>13%</td>\n    </tr>\n  </tbody>\n</table>\n</div>"
                    },
                    "metadata": {}
                }
            ]
        },
        {
            "metadata": {},
            "cell_type": "markdown",
            "source": "## Methodology"
        },
        {
            "metadata": {},
            "cell_type": "markdown",
            "source": "To chose the best sites, the data was looked at in a variety of ways. The first way the data was analyzed was to look at how many free students each school had in their enrollment."
        },
        {
            "metadata": {},
            "cell_type": "code",
            "source": "\nbody = client_65e164cdc3734a849b4963e9a15695f3.get_object(Bucket='capstoneproject-donotdelete-pr-tfc3arfibcxxd2',Key='schools ranked by free students.csv')['Body']\n# add missing __iter__ method, so pandas accepts body as file-like object\nif not hasattr(body, \"__iter__\"): body.__iter__ = types.MethodType( __iter__, body )\n\ndf_data_2 = pd.read_csv(body)\ndf_data_2.head(20)\n",
            "execution_count": 3,
            "outputs": [
                {
                    "output_type": "execute_result",
                    "execution_count": 3,
                    "data": {
                        "text/plain": "                   School  Free Free %  Reduced Reduced %  Free & Reduced  \\\n0         Lewisville_High  1203    55%      207        9%            1410   \n1              LHS_Harmon   813    64%      100        8%             913   \n2                DeLay_MS   812    81%       67        7%             879   \n3         The_Colony_High   760    36%      174        8%             934   \n4            LHS_Killough   636    62%       85        8%             721   \n5                Lakeland   600    84%       38        5%             638   \n6             Hebron_High   557    20%      101        4%             658   \n7               Durham_MS   482    64%       65        9%             547   \n8                 Vickery   470    70%       52        8%             522   \n9          Mill_Street_ES   451    81%       26        5%             477   \n10            Huffines_MS   449    56%       50        6%             499   \n11                Central   437    80%       43        8%             480   \n12             Hedrick_MS   434    67%       46        7%             480   \n13  Lewisville_Elementary   401    77%       38        7%             439   \n14             Southridge   395    72%       40        7%             435   \n15           Independence   344    42%       28        3%             372   \n16              Rockbrook   334    61%       33        6%             367   \n17                Parkway   316    57%       44        8%             360   \n18             Griffin_MS   312    44%       50        7%             362   \n19          Peters_Colony   311    62%       35        7%             346   \n\n   F&R %  Paid Paid %        Feeder  \n0    65%   770    35%    Lewisville  \n1    72%   350    28%    Lewisville  \n2    87%   129    13%    Lewisville  \n3    45%  1162    55%    The Colony  \n4    71%   300    29%    Lewisville  \n5    89%    77    11%    Lewisville  \n6    24%  2142    77%        Hebron  \n7    72%   209    28%    Lewisville  \n8    77%   154    23%  Flower Mound  \n9    85%    81    15%    Lewisville  \n10   63%   297    37%    Lewisville  \n11   87%    69    13%    Lewisville  \n12   75%   163    25%    The Colony  \n13   84%    83    16%    Lewisville  \n14   79%   117    21%    Lewisville  \n15   45%   450    55%        Hebron  \n16   67%   183    33%        Hebron  \n17   65%   191    35%    Lewisville  \n18   51%   346    49%    The Colony  \n19   69%   152    31%    The Colony  ",
                        "text/html": "<div>\n<style scoped>\n    .dataframe tbody tr th:only-of-type {\n        vertical-align: middle;\n    }\n\n    .dataframe tbody tr th {\n        vertical-align: top;\n    }\n\n    .dataframe thead th {\n        text-align: right;\n    }\n</style>\n<table border=\"1\" class=\"dataframe\">\n  <thead>\n    <tr style=\"text-align: right;\">\n      <th></th>\n      <th>School</th>\n      <th>Free</th>\n      <th>Free %</th>\n      <th>Reduced</th>\n      <th>Reduced %</th>\n      <th>Free &amp; Reduced</th>\n      <th>F&amp;R %</th>\n      <th>Paid</th>\n      <th>Paid %</th>\n      <th>Feeder</th>\n    </tr>\n  </thead>\n  <tbody>\n    <tr>\n      <th>0</th>\n      <td>Lewisville_High</td>\n      <td>1203</td>\n      <td>55%</td>\n      <td>207</td>\n      <td>9%</td>\n      <td>1410</td>\n      <td>65%</td>\n      <td>770</td>\n      <td>35%</td>\n      <td>Lewisville</td>\n    </tr>\n    <tr>\n      <th>1</th>\n      <td>LHS_Harmon</td>\n      <td>813</td>\n      <td>64%</td>\n      <td>100</td>\n      <td>8%</td>\n      <td>913</td>\n      <td>72%</td>\n      <td>350</td>\n      <td>28%</td>\n      <td>Lewisville</td>\n    </tr>\n    <tr>\n      <th>2</th>\n      <td>DeLay_MS</td>\n      <td>812</td>\n      <td>81%</td>\n      <td>67</td>\n      <td>7%</td>\n      <td>879</td>\n      <td>87%</td>\n      <td>129</td>\n      <td>13%</td>\n      <td>Lewisville</td>\n    </tr>\n    <tr>\n      <th>3</th>\n      <td>The_Colony_High</td>\n      <td>760</td>\n      <td>36%</td>\n      <td>174</td>\n      <td>8%</td>\n      <td>934</td>\n      <td>45%</td>\n      <td>1162</td>\n      <td>55%</td>\n      <td>The Colony</td>\n    </tr>\n    <tr>\n      <th>4</th>\n      <td>LHS_Killough</td>\n      <td>636</td>\n      <td>62%</td>\n      <td>85</td>\n      <td>8%</td>\n      <td>721</td>\n      <td>71%</td>\n      <td>300</td>\n      <td>29%</td>\n      <td>Lewisville</td>\n    </tr>\n    <tr>\n      <th>5</th>\n      <td>Lakeland</td>\n      <td>600</td>\n      <td>84%</td>\n      <td>38</td>\n      <td>5%</td>\n      <td>638</td>\n      <td>89%</td>\n      <td>77</td>\n      <td>11%</td>\n      <td>Lewisville</td>\n    </tr>\n    <tr>\n      <th>6</th>\n      <td>Hebron_High</td>\n      <td>557</td>\n      <td>20%</td>\n      <td>101</td>\n      <td>4%</td>\n      <td>658</td>\n      <td>24%</td>\n      <td>2142</td>\n      <td>77%</td>\n      <td>Hebron</td>\n    </tr>\n    <tr>\n      <th>7</th>\n      <td>Durham_MS</td>\n      <td>482</td>\n      <td>64%</td>\n      <td>65</td>\n      <td>9%</td>\n      <td>547</td>\n      <td>72%</td>\n      <td>209</td>\n      <td>28%</td>\n      <td>Lewisville</td>\n    </tr>\n    <tr>\n      <th>8</th>\n      <td>Vickery</td>\n      <td>470</td>\n      <td>70%</td>\n      <td>52</td>\n      <td>8%</td>\n      <td>522</td>\n      <td>77%</td>\n      <td>154</td>\n      <td>23%</td>\n      <td>Flower Mound</td>\n    </tr>\n    <tr>\n      <th>9</th>\n      <td>Mill_Street_ES</td>\n      <td>451</td>\n      <td>81%</td>\n      <td>26</td>\n      <td>5%</td>\n      <td>477</td>\n      <td>85%</td>\n      <td>81</td>\n      <td>15%</td>\n      <td>Lewisville</td>\n    </tr>\n    <tr>\n      <th>10</th>\n      <td>Huffines_MS</td>\n      <td>449</td>\n      <td>56%</td>\n      <td>50</td>\n      <td>6%</td>\n      <td>499</td>\n      <td>63%</td>\n      <td>297</td>\n      <td>37%</td>\n      <td>Lewisville</td>\n    </tr>\n    <tr>\n      <th>11</th>\n      <td>Central</td>\n      <td>437</td>\n      <td>80%</td>\n      <td>43</td>\n      <td>8%</td>\n      <td>480</td>\n      <td>87%</td>\n      <td>69</td>\n      <td>13%</td>\n      <td>Lewisville</td>\n    </tr>\n    <tr>\n      <th>12</th>\n      <td>Hedrick_MS</td>\n      <td>434</td>\n      <td>67%</td>\n      <td>46</td>\n      <td>7%</td>\n      <td>480</td>\n      <td>75%</td>\n      <td>163</td>\n      <td>25%</td>\n      <td>The Colony</td>\n    </tr>\n    <tr>\n      <th>13</th>\n      <td>Lewisville_Elementary</td>\n      <td>401</td>\n      <td>77%</td>\n      <td>38</td>\n      <td>7%</td>\n      <td>439</td>\n      <td>84%</td>\n      <td>83</td>\n      <td>16%</td>\n      <td>Lewisville</td>\n    </tr>\n    <tr>\n      <th>14</th>\n      <td>Southridge</td>\n      <td>395</td>\n      <td>72%</td>\n      <td>40</td>\n      <td>7%</td>\n      <td>435</td>\n      <td>79%</td>\n      <td>117</td>\n      <td>21%</td>\n      <td>Lewisville</td>\n    </tr>\n    <tr>\n      <th>15</th>\n      <td>Independence</td>\n      <td>344</td>\n      <td>42%</td>\n      <td>28</td>\n      <td>3%</td>\n      <td>372</td>\n      <td>45%</td>\n      <td>450</td>\n      <td>55%</td>\n      <td>Hebron</td>\n    </tr>\n    <tr>\n      <th>16</th>\n      <td>Rockbrook</td>\n      <td>334</td>\n      <td>61%</td>\n      <td>33</td>\n      <td>6%</td>\n      <td>367</td>\n      <td>67%</td>\n      <td>183</td>\n      <td>33%</td>\n      <td>Hebron</td>\n    </tr>\n    <tr>\n      <th>17</th>\n      <td>Parkway</td>\n      <td>316</td>\n      <td>57%</td>\n      <td>44</td>\n      <td>8%</td>\n      <td>360</td>\n      <td>65%</td>\n      <td>191</td>\n      <td>35%</td>\n      <td>Lewisville</td>\n    </tr>\n    <tr>\n      <th>18</th>\n      <td>Griffin_MS</td>\n      <td>312</td>\n      <td>44%</td>\n      <td>50</td>\n      <td>7%</td>\n      <td>362</td>\n      <td>51%</td>\n      <td>346</td>\n      <td>49%</td>\n      <td>The Colony</td>\n    </tr>\n    <tr>\n      <th>19</th>\n      <td>Peters_Colony</td>\n      <td>311</td>\n      <td>62%</td>\n      <td>35</td>\n      <td>7%</td>\n      <td>346</td>\n      <td>69%</td>\n      <td>152</td>\n      <td>31%</td>\n      <td>The Colony</td>\n    </tr>\n  </tbody>\n</table>\n</div>"
                    },
                    "metadata": {}
                }
            ]
        },
        {
            "metadata": {},
            "cell_type": "markdown",
            "source": "The data shows that the Lewisville high school feeder pattern has the most free students. Since schools in the Lewisville High School feeder pattern are close together, it would make sense to select schools outside this feeder pattern, as well, even if these schools do not have the most free and reduced students. Machine learning could have been used to cluster the schools, but this would have not been beneficial since similar schools would more than likely be geographically close to each other, which is something we are trying to avoid in selecting the sites."
        },
        {
            "metadata": {},
            "cell_type": "markdown",
            "source": "## Results"
        },
        {
            "metadata": {},
            "cell_type": "markdown",
            "source": "The best grab and go meal sites include Lewisville Harmon High School. This site has a free student percentage of 64% and 813 free students. Lewisville HS was not selected due to its close proximity to Lewisville Harmon. Other schools selected in the Lewisville Feeder pattern include Mill Street Elementary School and Lakeland Elementary School. \n\nOther good grab and go meal sites include Hedrick Middle School and Vickery Elementary School due to their high free student enrollment and geographic separation from the other selected sites."
        },
        {
            "metadata": {},
            "cell_type": "markdown",
            "source": "## Discussion"
        },
        {
            "metadata": {},
            "cell_type": "markdown",
            "source": "When selecting sites, stakeholders must look at how many sites the school is looking to operate and would need to look at how accessible each site is to its students. For example, parents way be working and students may have to walk to the sites. The number of sites selected will play a big role in determing the sites. If few sites are selected, it would be advantageous to select sites that are geographically separated compared to just selecting the sites with the highest need. Also, it is important to evaluate other resources that are available outside of the school district's feeding program to prevent two feeding programs from targeting the same students."
        },
        {
            "metadata": {},
            "cell_type": "markdown",
            "source": "## Conclusion"
        },
        {
            "metadata": {},
            "cell_type": "markdown",
            "source": "Based on the data analysis, I would select Lewisville Harmon HS, Mill Street Elementary School, Lakeland Elementary School, Hedrick Middle School, and Vickery Elementary School. \nHowever, if the school distirct wanted to operate more sites: Peter's Colony, Central Elementary and Lewisville Elementary would be other great options."
        },
        {
            "metadata": {},
            "cell_type": "code",
            "source": "",
            "execution_count": null,
            "outputs": []
        }
    ],
    "metadata": {
        "kernelspec": {
            "name": "python3",
            "display_name": "Python 3.6",
            "language": "python"
        },
        "language_info": {
            "name": "python",
            "version": "3.6.9",
            "mimetype": "text/x-python",
            "codemirror_mode": {
                "name": "ipython",
                "version": 3
            },
            "pygments_lexer": "ipython3",
            "nbconvert_exporter": "python",
            "file_extension": ".py"
        }
    },
    "nbformat": 4,
    "nbformat_minor": 1
}