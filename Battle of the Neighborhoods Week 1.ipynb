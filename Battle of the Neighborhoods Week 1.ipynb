{
    "cells": [
        {
            "metadata": {
                "collapsed": true
            },
            "cell_type": "markdown",
            "source": "# Battle of the Neighborhoods- Food Insecurity with Covid-19"
        },
        {
            "metadata": {},
            "cell_type": "markdown",
            "source": "## Introduction/Business Problem:\n"
        },
        {
            "metadata": {},
            "cell_type": "markdown",
            "source": "With many being unemployeed due to Covid-19, hunger among US children is growing. Food insecurity has also grown from students not receiving a meal at schools are closed or operating virtually due to Covid-19.In April 41% of mothers with children under the age of 13 reported recent food insecurity, which is the highest level since 2001. In addition, the non-profit organization, Feeding America, projects 18 million children could be food insecure in 2020. While many school districts are operating in a grab-n-go fashion, many students are unable to make it to these sites. For example, many school districts operate summer feeding programs. However, in 2018 only 14.1% of kids who received a free or reduced-price meals during the school year got a meal over the summer. Barriers for students getting grab-n-go meals include transportation barriers, families not knowing meals are available, and sites not being open when families are able to pick up meals.\nThis project will look at where grab-n-go sites should be placed within the Lewisville ISD school district. Selecting the right grab-n-go sites is crucial in helping students overcome the barriers preventing them from getting the food they need. "
        },
        {
            "metadata": {},
            "cell_type": "markdown",
            "source": "## Data\n"
        },
        {
            "metadata": {},
            "cell_type": "markdown",
            "source": "This project will use foursquare API data to get the latitude and longitude coordinates for each of the 66 schools in the school district. In addition, the project will use data showing how many students qualify for free and reduced lunches and the enrollment data for each of the 66 schools.\nThe datasets will be combined to create a chloropleth or heat map showing which areas have the most need and would benefit most from a grab-n-go meals site.\n\n"
        },
        {
            "metadata": {},
            "cell_type": "code",
            "source": "FreeReducedData.csv",
            "execution_count": 1,
            "outputs": [
                {
                    "output_type": "error",
                    "ename": "NameError",
                    "evalue": "name 'FreeReducedData' is not defined",
                    "traceback": [
                        "\u001b[0;31m---------------------------------------------------------------------------\u001b[0m",
                        "\u001b[0;31mNameError\u001b[0m                                 Traceback (most recent call last)",
                        "\u001b[0;32m<ipython-input-1-5acf6f9157a9>\u001b[0m in \u001b[0;36m<module>\u001b[0;34m\u001b[0m\n\u001b[0;32m----> 1\u001b[0;31m \u001b[0mFreeReducedData\u001b[0m\u001b[0;34m.\u001b[0m\u001b[0mcsv\u001b[0m\u001b[0;34m\u001b[0m\u001b[0;34m\u001b[0m\u001b[0m\n\u001b[0m",
                        "\u001b[0;31mNameError\u001b[0m: name 'FreeReducedData' is not defined"
                    ]
                }
            ]
        },
        {
            "metadata": {},
            "cell_type": "code",
            "source": "",
            "execution_count": null,
            "outputs": []
        }
    ],
    "metadata": {
        "kernelspec": {
            "name": "python3",
            "display_name": "Python 3.6",
            "language": "python"
        },
        "language_info": {
            "name": "python",
            "version": "3.6.9",
            "mimetype": "text/x-python",
            "codemirror_mode": {
                "name": "ipython",
                "version": 3
            },
            "pygments_lexer": "ipython3",
            "nbconvert_exporter": "python",
            "file_extension": ".py"
        }
    },
    "nbformat": 4,
    "nbformat_minor": 1
}