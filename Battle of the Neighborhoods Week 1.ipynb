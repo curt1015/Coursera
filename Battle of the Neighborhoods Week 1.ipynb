{
    "cells": [
        {
            "metadata": {},
            "cell_type": "code",
            "source": "# @hidden_cell\n# The project token is an authorization token that is used to access project resources like data sources, connections, and used by platform APIs.\nfrom project_lib import Project\nproject = Project(project_id='07afe8c4-7346-47a9-b182-3082c6d77a68', project_access_token='p-296809701d0f7d74306c7b1850a94c1c10483b22')\npc = project.project_context\n",
            "execution_count": null,
            "outputs": []
        },
        {
            "metadata": {
                "collapsed": true
            },
            "cell_type": "markdown",
            "source": "# Battle of the Neighborhoods- Food Insecurity with Covid-19"
        },
        {
            "metadata": {},
            "cell_type": "markdown",
            "source": "## Introduction/Business Problem:\n"
        },
        {
            "metadata": {},
            "cell_type": "markdown",
            "source": "With many being unemployeed due to Covid-19, hunger among US children is growing. Food insecurity has also grown from students not receiving a meal at schools are closed or operating virtually due to Covid-19.In April 41% of mothers with children under the age of 13 reported recent food insecurity, which is the highest level since 2001. In addition, the non-profit organization, Feeding America, projects 18 million children could be food insecure in 2020. While many school districts are operating in a grab-n-go fashion, many students are unable to make it to these sites. For example, many school districts operate summer feeding programs. However, in 2018 only 14.1% of kids who received a free or reduced-price meals during the school year got a meal over the summer. Barriers for students getting grab-n-go meals include transportation barriers, families not knowing meals are available, and sites not being open when families are able to pick up meals.\nThis project will look at where grab-n-go sites should be placed within the Lewisville ISD school district. Selecting the right grab-n-go sites is crucial in helping students overcome the barriers preventing them from getting the food they need. "
        },
        {
            "metadata": {},
            "cell_type": "markdown",
            "source": "## Data\n"
        },
        {
            "metadata": {},
            "cell_type": "markdown",
            "source": "This project will use foursquare API data to get the latitude and longitude coordinates for each of the 66 schools in the school district. In addition, the project will use data showing how many students qualify for free and reduced lunches and the enrollment data for each of the 66 schools.\nThe datasets will be combined to create a chloropleth or heat map showing which areas have the most need and would benefit most from a grab-n-go meals site.\n\n"
        },
        {
            "metadata": {},
            "cell_type": "code",
            "source": "\nimport types\nimport pandas as pd\nfrom botocore.client import Config\nimport ibm_boto3\n\ndef __iter__(self): return 0\n\n# @hidden_cell\n# The following code accesses a file in your IBM Cloud Object Storage. It includes your credentials.\n# You might want to remove those credentials before you share the notebook.\nclient_65e164cdc3734a849b4963e9a15695f3 = ibm_boto3.client(service_name='s3',\n    ibm_api_key_id='q6zEkXkixXv1oNBt9wCfMS4xOozyjOuw35eZQQMSQVkb',\n    ibm_auth_endpoint=\"https://iam.cloud.ibm.com/oidc/token\",\n    config=Config(signature_version='oauth'),\n    endpoint_url='https://s3-api.us-geo.objectstorage.service.networklayer.com')\n\nbody = client_65e164cdc3734a849b4963e9a15695f3.get_object(Bucket='capstoneproject-donotdelete-pr-tfc3arfibcxxd2',Key='FreeReducedData.csv')['Body']\n# add missing __iter__ method, so pandas accepts body as file-like object\nif not hasattr(body, \"__iter__\"): body.__iter__ = types.MethodType( __iter__, body )\n\ndf_data_1 = pd.read_csv(body)\ndf_data_1.head()\n",
            "execution_count": 2,
            "outputs": [
                {
                    "output_type": "execute_result",
                    "execution_count": 2,
                    "data": {
                        "text/plain": "         School  Enrollment  Free Free %  Reduced Reduced %  Free & Reduced  \\\n0    Bluebonnet         504    31     6%        5        1%              36   \n1    Bridlewood         483    26     5%        1        0%              27   \n2         Camey         548   275    50%       36        7%             311   \n3  Castle_Hills         704    36     5%        4        1%              40   \n4       Central         549   437    80%       43        8%             480   \n\n  F&R %  Paid Paid %  \n0    7%   468    93%  \n1    6%   456    94%  \n2   57%   237    43%  \n3    6%   664    94%  \n4   87%    69    13%  ",
                        "text/html": "<div>\n<style scoped>\n    .dataframe tbody tr th:only-of-type {\n        vertical-align: middle;\n    }\n\n    .dataframe tbody tr th {\n        vertical-align: top;\n    }\n\n    .dataframe thead th {\n        text-align: right;\n    }\n</style>\n<table border=\"1\" class=\"dataframe\">\n  <thead>\n    <tr style=\"text-align: right;\">\n      <th></th>\n      <th>School</th>\n      <th>Enrollment</th>\n      <th>Free</th>\n      <th>Free %</th>\n      <th>Reduced</th>\n      <th>Reduced %</th>\n      <th>Free &amp; Reduced</th>\n      <th>F&amp;R %</th>\n      <th>Paid</th>\n      <th>Paid %</th>\n    </tr>\n  </thead>\n  <tbody>\n    <tr>\n      <th>0</th>\n      <td>Bluebonnet</td>\n      <td>504</td>\n      <td>31</td>\n      <td>6%</td>\n      <td>5</td>\n      <td>1%</td>\n      <td>36</td>\n      <td>7%</td>\n      <td>468</td>\n      <td>93%</td>\n    </tr>\n    <tr>\n      <th>1</th>\n      <td>Bridlewood</td>\n      <td>483</td>\n      <td>26</td>\n      <td>5%</td>\n      <td>1</td>\n      <td>0%</td>\n      <td>27</td>\n      <td>6%</td>\n      <td>456</td>\n      <td>94%</td>\n    </tr>\n    <tr>\n      <th>2</th>\n      <td>Camey</td>\n      <td>548</td>\n      <td>275</td>\n      <td>50%</td>\n      <td>36</td>\n      <td>7%</td>\n      <td>311</td>\n      <td>57%</td>\n      <td>237</td>\n      <td>43%</td>\n    </tr>\n    <tr>\n      <th>3</th>\n      <td>Castle_Hills</td>\n      <td>704</td>\n      <td>36</td>\n      <td>5%</td>\n      <td>4</td>\n      <td>1%</td>\n      <td>40</td>\n      <td>6%</td>\n      <td>664</td>\n      <td>94%</td>\n    </tr>\n    <tr>\n      <th>4</th>\n      <td>Central</td>\n      <td>549</td>\n      <td>437</td>\n      <td>80%</td>\n      <td>43</td>\n      <td>8%</td>\n      <td>480</td>\n      <td>87%</td>\n      <td>69</td>\n      <td>13%</td>\n    </tr>\n  </tbody>\n</table>\n</div>"
                    },
                    "metadata": {}
                }
            ]
        },
        {
            "metadata": {},
            "cell_type": "code",
            "source": "",
            "execution_count": null,
            "outputs": []
        }
    ],
    "metadata": {
        "kernelspec": {
            "name": "python3",
            "display_name": "Python 3.6",
            "language": "python"
        },
        "language_info": {
            "name": "python",
            "version": "3.6.9",
            "mimetype": "text/x-python",
            "codemirror_mode": {
                "name": "ipython",
                "version": 3
            },
            "pygments_lexer": "ipython3",
            "nbconvert_exporter": "python",
            "file_extension": ".py"
        }
    },
    "nbformat": 4,
    "nbformat_minor": 1
}